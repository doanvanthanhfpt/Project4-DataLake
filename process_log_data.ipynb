{
 "cells": [
  {
   "cell_type": "code",
   "execution_count": 1,
   "id": "e085983a",
   "metadata": {
    "execution": {
     "iopub.execute_input": "2022-10-02T00:58:13.515163Z",
     "iopub.status.busy": "2022-10-02T00:58:13.514670Z",
     "iopub.status.idle": "2022-10-02T00:58:52.940993Z",
     "shell.execute_reply": "2022-10-02T00:58:52.939871Z",
     "shell.execute_reply.started": "2022-10-02T00:58:13.515131Z"
    },
    "tags": []
   },
   "outputs": [
    {
     "data": {
      "application/vnd.jupyter.widget-view+json": {
       "model_id": "7ca64774d42644c4843ef964424d556f",
       "version_major": 2,
       "version_minor": 0
      },
      "text/plain": [
       "VBox()"
      ]
     },
     "metadata": {},
     "output_type": "display_data"
    },
    {
     "name": "stdout",
     "output_type": "stream",
     "text": [
      "Starting Spark application\n"
     ]
    },
    {
     "data": {
      "text/html": [
       "<table>\n",
       "<tr><th>ID</th><th>YARN Application ID</th><th>Kind</th><th>State</th><th>Spark UI</th><th>Driver log</th><th>Current session?</th></tr><tr><td>0</td><td>application_1664671886566_0001</td><td>pyspark</td><td>idle</td><td><a target=\"_blank\" href=\"http://ip-172-31-89-21.ec2.internal:20888/proxy/application_1664671886566_0001/\">Link</a></td><td><a target=\"_blank\" href=\"http://ip-172-31-94-72.ec2.internal:8042/node/containerlogs/container_1664671886566_0001_01_000001/livy\">Link</a></td><td>✔</td></tr></table>"
      ],
      "text/plain": [
       "<IPython.core.display.HTML object>"
      ]
     },
     "metadata": {},
     "output_type": "display_data"
    },
    {
     "data": {
      "application/vnd.jupyter.widget-view+json": {
       "model_id": "",
       "version_major": 2,
       "version_minor": 0
      },
      "text/plain": [
       "FloatProgress(value=0.0, bar_style='info', description='Progress:', layout=Layout(height='25px', width='50%'),…"
      ]
     },
     "metadata": {},
     "output_type": "display_data"
    },
    {
     "name": "stdout",
     "output_type": "stream",
     "text": [
      "SparkSession available as 'spark'.\n"
     ]
    },
    {
     "data": {
      "application/vnd.jupyter.widget-view+json": {
       "model_id": "",
       "version_major": 2,
       "version_minor": 0
      },
      "text/plain": [
       "FloatProgress(value=0.0, bar_style='info', description='Progress:', layout=Layout(height='25px', width='50%'),…"
      ]
     },
     "metadata": {},
     "output_type": "display_data"
    }
   ],
   "source": [
    "import configparser\n",
    "from datetime import datetime\n",
    "import os\n",
    "from pyspark.sql import SparkSession\n",
    "import  pyspark.sql.functions as F\n",
    "from pyspark.sql.functions import udf, col\n",
    "from pyspark.sql.functions import year, month, dayofmonth, hour, weekofyear, date_format\n",
    "from pyspark.sql.types import StringType"
   ]
  },
  {
   "cell_type": "code",
   "execution_count": 2,
   "id": "4bc1d572",
   "metadata": {
    "execution": {
     "iopub.execute_input": "2022-10-02T00:59:36.020490Z",
     "iopub.status.busy": "2022-10-02T00:59:36.020156Z",
     "iopub.status.idle": "2022-10-02T00:59:36.363915Z",
     "shell.execute_reply": "2022-10-02T00:59:36.362807Z",
     "shell.execute_reply.started": "2022-10-02T00:59:36.020461Z"
    },
    "tags": []
   },
   "outputs": [
    {
     "data": {
      "application/vnd.jupyter.widget-view+json": {
       "model_id": "b5aaa626a9024704a02cf23843de4850",
       "version_major": 2,
       "version_minor": 0
      },
      "text/plain": [
       "VBox()"
      ]
     },
     "metadata": {},
     "output_type": "display_data"
    },
    {
     "data": {
      "application/vnd.jupyter.widget-view+json": {
       "model_id": "",
       "version_major": 2,
       "version_minor": 0
      },
      "text/plain": [
       "FloatProgress(value=0.0, bar_style='info', description='Progress:', layout=Layout(height='25px', width='50%'),…"
      ]
     },
     "metadata": {},
     "output_type": "display_data"
    }
   ],
   "source": [
    "# specify input-data and output_data\n",
    "input_data = \"s3a://udacity-dend/log_data\"\n",
    "output_data = \"s3://thanhdv-spark-datalake-emr-project4-03/emr-lab-data/\""
   ]
  },
  {
   "cell_type": "code",
   "execution_count": 3,
   "id": "108c50f1",
   "metadata": {
    "execution": {
     "iopub.execute_input": "2022-10-02T00:59:45.216630Z",
     "iopub.status.busy": "2022-10-02T00:59:45.216216Z",
     "iopub.status.idle": "2022-10-02T00:59:46.798673Z",
     "shell.execute_reply": "2022-10-02T00:59:46.797386Z",
     "shell.execute_reply.started": "2022-10-02T00:59:45.216599Z"
    },
    "tags": []
   },
   "outputs": [
    {
     "data": {
      "application/vnd.jupyter.widget-view+json": {
       "model_id": "c69d305c0bad47619ec00be542943d0f",
       "version_major": 2,
       "version_minor": 0
      },
      "text/plain": [
       "VBox()"
      ]
     },
     "metadata": {},
     "output_type": "display_data"
    },
    {
     "data": {
      "application/vnd.jupyter.widget-view+json": {
       "model_id": "",
       "version_major": 2,
       "version_minor": 0
      },
      "text/plain": [
       "FloatProgress(value=0.0, bar_style='info', description='Progress:', layout=Layout(height='25px', width='50%'),…"
      ]
     },
     "metadata": {},
     "output_type": "display_data"
    },
    {
     "name": "stdout",
     "output_type": "stream",
     "text": [
      "<pyspark.sql.session.SparkSession object at 0x7f7d23563fd0>"
     ]
    }
   ],
   "source": [
    "spark = SparkSession.builder.config(\"spark.jars.packages\", \"org.apache.hadoop:hadoop-aws:2.7.0\").getOrCreate()\n",
    "spark"
   ]
  },
  {
   "cell_type": "code",
   "execution_count": 4,
   "id": "1e8db9da",
   "metadata": {
    "execution": {
     "iopub.execute_input": "2022-09-30T10:27:12.725826Z",
     "iopub.status.busy": "2022-09-30T10:27:12.725383Z",
     "iopub.status.idle": "2022-09-30T10:27:13.052677Z",
     "shell.execute_reply": "2022-09-30T10:27:13.051668Z",
     "shell.execute_reply.started": "2022-09-30T10:27:12.725791Z"
    },
    "tags": []
   },
   "outputs": [
    {
     "data": {
      "application/vnd.jupyter.widget-view+json": {
       "model_id": "410b13b0147a414baa3a12bc8b93929c",
       "version_major": 2,
       "version_minor": 0
      },
      "text/plain": [
       "VBox()"
      ]
     },
     "metadata": {},
     "output_type": "display_data"
    },
    {
     "data": {
      "application/vnd.jupyter.widget-view+json": {
       "model_id": "",
       "version_major": 2,
       "version_minor": 0
      },
      "text/plain": [
       "FloatProgress(value=0.0, bar_style='info', description='Progress:', layout=Layout(height='25px', width='50%'),…"
      ]
     },
     "metadata": {},
     "output_type": "display_data"
    }
   ],
   "source": [
    "### process_log_data ###"
   ]
  },
  {
   "cell_type": "code",
   "execution_count": 4,
   "id": "06883807",
   "metadata": {
    "execution": {
     "iopub.execute_input": "2022-10-02T01:00:08.564027Z",
     "iopub.status.busy": "2022-10-02T01:00:08.563631Z",
     "iopub.status.idle": "2022-10-02T01:00:08.848487Z",
     "shell.execute_reply": "2022-10-02T01:00:08.847269Z",
     "shell.execute_reply.started": "2022-10-02T01:00:08.563994Z"
    },
    "tags": []
   },
   "outputs": [
    {
     "data": {
      "application/vnd.jupyter.widget-view+json": {
       "model_id": "75dfc805a98f48a1a5bbe0dd5873e25e",
       "version_major": 2,
       "version_minor": 0
      },
      "text/plain": [
       "VBox()"
      ]
     },
     "metadata": {},
     "output_type": "display_data"
    },
    {
     "data": {
      "application/vnd.jupyter.widget-view+json": {
       "model_id": "",
       "version_major": 2,
       "version_minor": 0
      },
      "text/plain": [
       "FloatProgress(value=0.0, bar_style='info', description='Progress:', layout=Layout(height='25px', width='50%'),…"
      ]
     },
     "metadata": {},
     "output_type": "display_data"
    }
   ],
   "source": [
    "# For dev and test faster\n",
    "log_data = \"s3://udacity-dend/log_data/2018/11/2018-11-12-events.json\""
   ]
  },
  {
   "cell_type": "code",
   "execution_count": 5,
   "id": "8419c8da",
   "metadata": {
    "execution": {
     "iopub.execute_input": "2022-10-02T01:00:21.611411Z",
     "iopub.status.busy": "2022-10-02T01:00:21.610856Z",
     "iopub.status.idle": "2022-10-02T01:01:04.188633Z",
     "shell.execute_reply": "2022-10-02T01:01:04.184977Z",
     "shell.execute_reply.started": "2022-10-02T01:00:21.611377Z"
    },
    "tags": []
   },
   "outputs": [
    {
     "data": {
      "application/vnd.jupyter.widget-view+json": {
       "model_id": "9d86d243ba5742ef9dfa28e36622dfc2",
       "version_major": 2,
       "version_minor": 0
      },
      "text/plain": [
       "VBox()"
      ]
     },
     "metadata": {},
     "output_type": "display_data"
    },
    {
     "data": {
      "application/vnd.jupyter.widget-view+json": {
       "model_id": "",
       "version_major": 2,
       "version_minor": 0
      },
      "text/plain": [
       "FloatProgress(value=0.0, bar_style='info', description='Progress:', layout=Layout(height='25px', width='50%'),…"
      ]
     },
     "metadata": {},
     "output_type": "display_data"
    },
    {
     "name": "stdout",
     "output_type": "stream",
     "text": [
      "root\n",
      " |-- artist: string (nullable = true)\n",
      " |-- auth: string (nullable = true)\n",
      " |-- firstName: string (nullable = true)\n",
      " |-- gender: string (nullable = true)\n",
      " |-- itemInSession: long (nullable = true)\n",
      " |-- lastName: string (nullable = true)\n",
      " |-- length: double (nullable = true)\n",
      " |-- level: string (nullable = true)\n",
      " |-- location: string (nullable = true)\n",
      " |-- method: string (nullable = true)\n",
      " |-- page: string (nullable = true)\n",
      " |-- registration: double (nullable = true)\n",
      " |-- sessionId: long (nullable = true)\n",
      " |-- song: string (nullable = true)\n",
      " |-- status: long (nullable = true)\n",
      " |-- ts: long (nullable = true)\n",
      " |-- userAgent: string (nullable = true)\n",
      " |-- userId: string (nullable = true)\n",
      "\n",
      "+--------------------+---------+----------+------+-------------+--------+---------+-----+--------------------+------+--------+-----------------+---------+--------------------+------+-------------+--------------------+------+\n",
      "|              artist|     auth| firstName|gender|itemInSession|lastName|   length|level|            location|method|    page|     registration|sessionId|                song|status|           ts|           userAgent|userId|\n",
      "+--------------------+---------+----------+------+-------------+--------+---------+-----+--------------------+------+--------+-----------------+---------+--------------------+------+-------------+--------------------+------+\n",
      "|            Pavement|Logged In|    Sylvie|     F|            0|    Cruz| 99.16036| free|Washington-Arling...|   PUT|NextSong|1.540266185796E12|      345|Mercy:The Laundromat|   200|1541990258796|\"Mozilla/5.0 (Mac...|    10|\n",
      "|Barry Tuckwell/Ac...|Logged In|   Celeste|     F|            1|Williams|277.15873| free|   Klamath Falls, OR|   PUT|NextSong|1.541077528796E12|      438|Horn Concerto No....|   200|1541990264796|\"Mozilla/5.0 (Win...|    53|\n",
      "|          Gary Allan|Logged In|   Celeste|     F|            2|Williams|211.22567| free|   Klamath Falls, OR|   PUT|NextSong|1.541077528796E12|      438|Nothing On But Th...|   200|1541990541796|\"Mozilla/5.0 (Win...|    53|\n",
      "|  Charttraxx Karaoke|Logged In|   Celeste|     F|            3|Williams|225.17506| free|   Klamath Falls, OR|   PUT|NextSong|1.541077528796E12|      438|           Fireflies|   200|1541990752796|\"Mozilla/5.0 (Win...|    53|\n",
      "|      The Libertines|Logged In|Jacqueline|     F|            1|   Lynch|179.53914| paid|Atlanta-Sandy Spr...|   PUT|NextSong|1.540223723796E12|      389|   The Good Old Days|   200|1541990842796|\"Mozilla/5.0 (Mac...|    29|\n",
      "|Huey Lewis And Th...|Logged In|Jacqueline|     F|            2|   Lynch|245.52444| paid|Atlanta-Sandy Spr...|   PUT|NextSong|1.540223723796E12|      389|    Hip To Be Square|   200|1541991021796|\"Mozilla/5.0 (Mac...|    29|\n",
      "|JOSEF LOCKE & ORC...|Logged In|Jacqueline|     F|            3|   Lynch|166.26893| paid|Atlanta-Sandy Spr...|   PUT|NextSong|1.540223723796E12|      389|How Can You Buy K...|   200|1541991266796|\"Mozilla/5.0 (Mac...|    29|\n",
      "|               Train|Logged In|Jacqueline|     F|            4|   Lynch|216.76363| paid|Atlanta-Sandy Spr...|   PUT|NextSong|1.540223723796E12|      389|    Hey_ Soul Sister|   200|1541991432796|\"Mozilla/5.0 (Mac...|    29|\n",
      "|         Blind Pilot|Logged In|Jacqueline|     F|            5|   Lynch|156.94322| paid|Atlanta-Sandy Spr...|   PUT|NextSong|1.540223723796E12|      389|     I Buried a Bone|   200|1541991648796|\"Mozilla/5.0 (Mac...|    29|\n",
      "|             Anjulie|Logged In|Jacqueline|     F|            6|   Lynch|194.63791| paid|Atlanta-Sandy Spr...|   PUT|NextSong|1.540223723796E12|      389|                Boom|   200|1541991804796|\"Mozilla/5.0 (Mac...|    29|\n",
      "+--------------------+---------+----------+------+-------------+--------+---------+-----+--------------------+------+--------+-----------------+---------+--------------------+------+-------------+--------------------+------+\n",
      "only showing top 10 rows\n",
      "\n",
      "166"
     ]
    }
   ],
   "source": [
    "df = spark.read.json(log_data)\n",
    "df = df.filter(df.page == 'NextSong')\n",
    "df.printSchema()\n",
    "df.show(10)\n",
    "df.count()"
   ]
  },
  {
   "cell_type": "code",
   "execution_count": 6,
   "id": "9ddd3db6",
   "metadata": {
    "execution": {
     "iopub.execute_input": "2022-10-02T01:01:18.411356Z",
     "iopub.status.busy": "2022-10-02T01:01:18.411020Z",
     "iopub.status.idle": "2022-10-02T01:01:24.416907Z",
     "shell.execute_reply": "2022-10-02T01:01:24.415570Z",
     "shell.execute_reply.started": "2022-10-02T01:01:18.411327Z"
    },
    "tags": []
   },
   "outputs": [
    {
     "data": {
      "application/vnd.jupyter.widget-view+json": {
       "model_id": "95a0374cd29746ac8c7666992dd2fedb",
       "version_major": 2,
       "version_minor": 0
      },
      "text/plain": [
       "VBox()"
      ]
     },
     "metadata": {},
     "output_type": "display_data"
    },
    {
     "data": {
      "application/vnd.jupyter.widget-view+json": {
       "model_id": "",
       "version_major": 2,
       "version_minor": 0
      },
      "text/plain": [
       "FloatProgress(value=0.0, bar_style='info', description='Progress:', layout=Layout(height='25px', width='50%'),…"
      ]
     },
     "metadata": {},
     "output_type": "display_data"
    },
    {
     "name": "stdout",
     "output_type": "stream",
     "text": [
      "root\n",
      " |-- userId: string (nullable = true)\n",
      " |-- firstName: string (nullable = true)\n",
      " |-- lastName: string (nullable = true)\n",
      " |-- gender: string (nullable = true)\n",
      " |-- level: string (nullable = true)\n",
      "\n",
      "+------+----------+---------+------+-----+\n",
      "|userId|firstName |lastName |gender|level|\n",
      "+------+----------+---------+------+-----+\n",
      "|10    |Sylvie    |Cruz     |F     |free |\n",
      "|100   |Adler     |Barrera  |M     |free |\n",
      "|12    |Austin    |Rosales  |M     |free |\n",
      "|14    |Theodore  |Harris   |M     |free |\n",
      "|26    |Ryan      |Smith    |M     |free |\n",
      "|29    |Jacqueline|Lynch    |F     |paid |\n",
      "|32    |Lily      |Burns    |F     |free |\n",
      "|33    |Bronson   |Harris   |M     |free |\n",
      "|34    |Evelin    |Ayala    |F     |free |\n",
      "|37    |Jordan    |Hicks    |F     |free |\n",
      "|49    |Chloe     |Cuevas   |F     |free |\n",
      "|51    |Maia      |Burke    |F     |free |\n",
      "|53    |Celeste   |Williams |F     |free |\n",
      "|58    |Emily     |Benson   |F     |paid |\n",
      "|61    |Samuel    |Gonzalez |M     |free |\n",
      "|66    |Kevin     |Arellano |M     |free |\n",
      "|68    |Jordan    |Rodriguez|F     |free |\n",
      "|73    |Jacob     |Klein    |M     |paid |\n",
      "|76    |Jayden    |Duffy    |F     |free |\n",
      "|78    |Chloe     |Roth     |F     |free |\n",
      "+------+----------+---------+------+-----+\n",
      "only showing top 20 rows"
     ]
    }
   ],
   "source": [
    "# extract columns for users table  \n",
    "users_table = df.select(\"userId\",\"firstName\",\"lastName\",\"gender\",\"level\").dropDuplicates()\n",
    "users_table.printSchema()\n",
    "users_table.sort(\"userId\").show(truncate=False)"
   ]
  },
  {
   "cell_type": "code",
   "execution_count": 7,
   "id": "ba95c570",
   "metadata": {
    "execution": {
     "iopub.execute_input": "2022-10-02T01:01:32.382245Z",
     "iopub.status.busy": "2022-10-02T01:01:32.381893Z",
     "iopub.status.idle": "2022-10-02T01:02:08.720459Z",
     "shell.execute_reply": "2022-10-02T01:02:08.719098Z",
     "shell.execute_reply.started": "2022-10-02T01:01:32.382214Z"
    },
    "tags": []
   },
   "outputs": [
    {
     "data": {
      "application/vnd.jupyter.widget-view+json": {
       "model_id": "c5e0610dadb1494896401127f8f3a85b",
       "version_major": 2,
       "version_minor": 0
      },
      "text/plain": [
       "VBox()"
      ]
     },
     "metadata": {},
     "output_type": "display_data"
    },
    {
     "data": {
      "application/vnd.jupyter.widget-view+json": {
       "model_id": "",
       "version_major": 2,
       "version_minor": 0
      },
      "text/plain": [
       "FloatProgress(value=0.0, bar_style='info', description='Progress:', layout=Layout(height='25px', width='50%'),…"
      ]
     },
     "metadata": {},
     "output_type": "display_data"
    },
    {
     "name": "stdout",
     "output_type": "stream",
     "text": [
      "root\n",
      " |-- userId: string (nullable = true)\n",
      " |-- firstName: string (nullable = true)\n",
      " |-- lastName: string (nullable = true)\n",
      " |-- gender: string (nullable = true)\n",
      " |-- level: string (nullable = true)\n",
      "\n",
      "+------+----------+---------+------+-----+\n",
      "|userId|firstName |lastName |gender|level|\n",
      "+------+----------+---------+------+-----+\n",
      "|10    |Sylvie    |Cruz     |F     |free |\n",
      "|100   |Adler     |Barrera  |M     |free |\n",
      "|12    |Austin    |Rosales  |M     |free |\n",
      "|14    |Theodore  |Harris   |M     |free |\n",
      "|26    |Ryan      |Smith    |M     |free |\n",
      "|29    |Jacqueline|Lynch    |F     |paid |\n",
      "|32    |Lily      |Burns    |F     |free |\n",
      "|33    |Bronson   |Harris   |M     |free |\n",
      "|34    |Evelin    |Ayala    |F     |free |\n",
      "|37    |Jordan    |Hicks    |F     |free |\n",
      "|49    |Chloe     |Cuevas   |F     |free |\n",
      "|51    |Maia      |Burke    |F     |free |\n",
      "|53    |Celeste   |Williams |F     |free |\n",
      "|58    |Emily     |Benson   |F     |paid |\n",
      "|61    |Samuel    |Gonzalez |M     |free |\n",
      "|66    |Kevin     |Arellano |M     |free |\n",
      "|68    |Jordan    |Rodriguez|F     |free |\n",
      "|73    |Jacob     |Klein    |M     |paid |\n",
      "|76    |Jayden    |Duffy    |F     |free |\n",
      "|78    |Chloe     |Roth     |F     |free |\n",
      "+------+----------+---------+------+-----+\n",
      "only showing top 20 rows"
     ]
    }
   ],
   "source": [
    "# write users table to parquet files\n",
    "users_table.write.parquet(os.path.join(output_data, \"users/users.parquet\"), \"overwrite\")\n",
    "\n",
    "# verify parquet files\n",
    "users_df = spark.read.parquet(\"s3://thanhdv-spark-datalake-emr-project4-03/emr-lab-data/users/users.parquet/*\")\n",
    "users_df.printSchema()\n",
    "users_df.sort(\"userId\").show(truncate=False)"
   ]
  },
  {
   "cell_type": "code",
   "execution_count": 8,
   "id": "b4df12c2-32e4-4930-9d70-d600200fc13c",
   "metadata": {
    "execution": {
     "iopub.execute_input": "2022-10-02T01:02:16.680063Z",
     "iopub.status.busy": "2022-10-02T01:02:16.679673Z",
     "iopub.status.idle": "2022-10-02T01:02:28.797108Z",
     "shell.execute_reply": "2022-10-02T01:02:28.795894Z",
     "shell.execute_reply.started": "2022-10-02T01:02:16.680031Z"
    },
    "tags": []
   },
   "outputs": [
    {
     "data": {
      "application/vnd.jupyter.widget-view+json": {
       "model_id": "297edad7e8da403b9723103e34099624",
       "version_major": 2,
       "version_minor": 0
      },
      "text/plain": [
       "VBox()"
      ]
     },
     "metadata": {},
     "output_type": "display_data"
    },
    {
     "data": {
      "application/vnd.jupyter.widget-view+json": {
       "model_id": "",
       "version_major": 2,
       "version_minor": 0
      },
      "text/plain": [
       "FloatProgress(value=0.0, bar_style='info', description='Progress:', layout=Layout(height='25px', width='50%'),…"
      ]
     },
     "metadata": {},
     "output_type": "display_data"
    },
    {
     "name": "stdout",
     "output_type": "stream",
     "text": [
      "root\n",
      " |-- userId: string (nullable = true)\n",
      " |-- firstName: string (nullable = true)\n",
      " |-- lastName: string (nullable = true)\n",
      " |-- gender: string (nullable = true)\n",
      " |-- level: string (nullable = true)\n",
      "\n",
      "+------+----------+--------+------+-----+\n",
      "|userId|firstName |lastName|gender|level|\n",
      "+------+----------+--------+------+-----+\n",
      "|29    |Jacqueline|Lynch   |F     |paid |\n",
      "|58    |Emily     |Benson  |F     |paid |\n",
      "|73    |Jacob     |Klein   |M     |paid |\n",
      "|80    |Tegan     |Levine  |F     |paid |\n",
      "|97    |Kate      |Harrell |F     |paid |\n",
      "+------+----------+--------+------+-----+\n",
      "\n",
      "root\n",
      " |-- userId: string (nullable = true)\n",
      " |-- firstName: string (nullable = true)\n",
      " |-- lastName: string (nullable = true)\n",
      " |-- gender: string (nullable = true)\n",
      " |-- level: string (nullable = true)\n",
      "\n",
      "+------+----------+--------+------+-----+\n",
      "|userId|firstName |lastName|gender|level|\n",
      "+------+----------+--------+------+-----+\n",
      "|29    |Jacqueline|Lynch   |F     |paid |\n",
      "|58    |Emily     |Benson  |F     |paid |\n",
      "|73    |Jacob     |Klein   |M     |paid |\n",
      "|80    |Tegan     |Levine  |F     |paid |\n",
      "|97    |Kate      |Harrell |F     |paid |\n",
      "+------+----------+--------+------+-----+"
     ]
    }
   ],
   "source": [
    "# Verify schema differences between parquet file and dataframe\n",
    "users_table = users_table.filter(users_table.level == 'paid')\n",
    "users_table.printSchema()\n",
    "users_table.sort(\"userId\").show(truncate=False)\n",
    "\n",
    "users_df = users_df.filter(users_df.level == 'paid')\n",
    "users_df.printSchema()\n",
    "users_df.sort(\"userId\").show(truncate=False)"
   ]
  },
  {
   "cell_type": "code",
   "execution_count": 9,
   "id": "f3ec204d-8f4a-4c5b-8a87-95896f3159d7",
   "metadata": {
    "execution": {
     "iopub.execute_input": "2022-10-02T01:02:33.815292Z",
     "iopub.status.busy": "2022-10-02T01:02:33.814969Z",
     "iopub.status.idle": "2022-10-02T01:02:36.545266Z",
     "shell.execute_reply": "2022-10-02T01:02:36.541031Z",
     "shell.execute_reply.started": "2022-10-02T01:02:33.815266Z"
    },
    "tags": []
   },
   "outputs": [
    {
     "data": {
      "application/vnd.jupyter.widget-view+json": {
       "model_id": "4cc8351da3e74cfbb37bdb7a914907c1",
       "version_major": 2,
       "version_minor": 0
      },
      "text/plain": [
       "VBox()"
      ]
     },
     "metadata": {},
     "output_type": "display_data"
    },
    {
     "data": {
      "application/vnd.jupyter.widget-view+json": {
       "model_id": "",
       "version_major": 2,
       "version_minor": 0
      },
      "text/plain": [
       "FloatProgress(value=0.0, bar_style='info', description='Progress:', layout=Layout(height='25px', width='50%'),…"
      ]
     },
     "metadata": {},
     "output_type": "display_data"
    },
    {
     "name": "stdout",
     "output_type": "stream",
     "text": [
      "root\n",
      " |-- artist: string (nullable = true)\n",
      " |-- auth: string (nullable = true)\n",
      " |-- firstName: string (nullable = true)\n",
      " |-- gender: string (nullable = true)\n",
      " |-- itemInSession: long (nullable = true)\n",
      " |-- lastName: string (nullable = true)\n",
      " |-- length: double (nullable = true)\n",
      " |-- level: string (nullable = true)\n",
      " |-- location: string (nullable = true)\n",
      " |-- method: string (nullable = true)\n",
      " |-- page: string (nullable = true)\n",
      " |-- registration: double (nullable = true)\n",
      " |-- sessionId: long (nullable = true)\n",
      " |-- song: string (nullable = true)\n",
      " |-- status: long (nullable = true)\n",
      " |-- ts: long (nullable = true)\n",
      " |-- userAgent: string (nullable = true)\n",
      " |-- userId: string (nullable = true)\n",
      " |-- timestamp: string (nullable = true)\n",
      "\n",
      "+--------------------+---------+----------+------+-------------+---------+---------+-----+--------------------+------+--------+-----------------+---------+--------------------+------+-------------+--------------------+------+-------------------+\n",
      "|              artist|     auth| firstName|gender|itemInSession| lastName|   length|level|            location|method|    page|     registration|sessionId|                song|status|           ts|           userAgent|userId|          timestamp|\n",
      "+--------------------+---------+----------+------+-------------+---------+---------+-----+--------------------+------+--------+-----------------+---------+--------------------+------+-------------+--------------------+------+-------------------+\n",
      "|            Pavement|Logged In|    Sylvie|     F|            0|     Cruz| 99.16036| free|Washington-Arling...|   PUT|NextSong|1.540266185796E12|      345|Mercy:The Laundromat|   200|1541990258796|\"Mozilla/5.0 (Mac...|    10|2018-11-12 02:37:38|\n",
      "|Barry Tuckwell/Ac...|Logged In|   Celeste|     F|            1| Williams|277.15873| free|   Klamath Falls, OR|   PUT|NextSong|1.541077528796E12|      438|Horn Concerto No....|   200|1541990264796|\"Mozilla/5.0 (Win...|    53|2018-11-12 02:37:44|\n",
      "|          Gary Allan|Logged In|   Celeste|     F|            2| Williams|211.22567| free|   Klamath Falls, OR|   PUT|NextSong|1.541077528796E12|      438|Nothing On But Th...|   200|1541990541796|\"Mozilla/5.0 (Win...|    53|2018-11-12 02:42:21|\n",
      "|  Charttraxx Karaoke|Logged In|   Celeste|     F|            3| Williams|225.17506| free|   Klamath Falls, OR|   PUT|NextSong|1.541077528796E12|      438|           Fireflies|   200|1541990752796|\"Mozilla/5.0 (Win...|    53|2018-11-12 02:45:52|\n",
      "|      The Libertines|Logged In|Jacqueline|     F|            1|    Lynch|179.53914| paid|Atlanta-Sandy Spr...|   PUT|NextSong|1.540223723796E12|      389|   The Good Old Days|   200|1541990842796|\"Mozilla/5.0 (Mac...|    29|2018-11-12 02:47:22|\n",
      "|Huey Lewis And Th...|Logged In|Jacqueline|     F|            2|    Lynch|245.52444| paid|Atlanta-Sandy Spr...|   PUT|NextSong|1.540223723796E12|      389|    Hip To Be Square|   200|1541991021796|\"Mozilla/5.0 (Mac...|    29|2018-11-12 02:50:21|\n",
      "|JOSEF LOCKE & ORC...|Logged In|Jacqueline|     F|            3|    Lynch|166.26893| paid|Atlanta-Sandy Spr...|   PUT|NextSong|1.540223723796E12|      389|How Can You Buy K...|   200|1541991266796|\"Mozilla/5.0 (Mac...|    29|2018-11-12 02:54:26|\n",
      "|               Train|Logged In|Jacqueline|     F|            4|    Lynch|216.76363| paid|Atlanta-Sandy Spr...|   PUT|NextSong|1.540223723796E12|      389|    Hey_ Soul Sister|   200|1541991432796|\"Mozilla/5.0 (Mac...|    29|2018-11-12 02:57:12|\n",
      "|         Blind Pilot|Logged In|Jacqueline|     F|            5|    Lynch|156.94322| paid|Atlanta-Sandy Spr...|   PUT|NextSong|1.540223723796E12|      389|     I Buried a Bone|   200|1541991648796|\"Mozilla/5.0 (Mac...|    29|2018-11-12 03:00:48|\n",
      "|             Anjulie|Logged In|Jacqueline|     F|            6|    Lynch|194.63791| paid|Atlanta-Sandy Spr...|   PUT|NextSong|1.540223723796E12|      389|                Boom|   200|1541991804796|\"Mozilla/5.0 (Mac...|    29|2018-11-12 03:03:24|\n",
      "|   59 Times the Pain|Logged In|    Jordan|     F|            0|Rodriguez|144.95302| free|Los Angeles-Long ...|   PUT|NextSong|1.540992715796E12|      136|          Found Home|   200|1541993788796|Mozilla/5.0 (Wind...|    68|2018-11-12 03:36:28|\n",
      "|          Pork Dukes|Logged In|      Noah|     M|            0|   Chavez|133.04118| free|Ogden-Clearfield, UT|   PUT|NextSong|1.540970748796E12|      262|        Bend & Flush|   200|1542003207796|Mozilla/5.0 (Wind...|    94|2018-11-12 06:13:27|\n",
      "|              Plan B|Logged In|     Adler|     M|            1|  Barrera|254.95465| free|New York-Newark-J...|   PUT|NextSong|1.540835983796E12|      428|Traded In My Ciga...|   200|1542012644796|\"Mozilla/5.0 (Mac...|   100|2018-11-12 08:50:44|\n",
      "|Rell featuring De...|Logged In|     Adler|     M|            2|  Barrera|223.97342| free|New York-Newark-J...|   PUT|NextSong|1.540835983796E12|      428|     Talk Is Drastik|   200|1542012898796|\"Mozilla/5.0 (Mac...|   100|2018-11-12 08:54:58|\n",
      "|                K-OS|Logged In|     Adler|     M|            3|  Barrera|211.33016| free|New York-Newark-J...|   PUT|NextSong|1.540835983796E12|      428|        EMCEE Murdah|   200|1542013121796|\"Mozilla/5.0 (Mac...|   100|2018-11-12 08:58:41|\n",
      "|     Vanessa Carlton|Logged In|     Adler|     M|            4|  Barrera|272.40444| free|New York-Newark-J...|   PUT|NextSong|1.540835983796E12|      428|         Come Undone|   200|1542013332796|\"Mozilla/5.0 (Mac...|   100|2018-11-12 09:02:12|\n",
      "|              Camila|Logged In|     Emily|     F|            0|   Benson|280.34567| paid|Augusta-Richmond ...|   PUT|NextSong|1.540907087796E12|      377|               De Mi|   200|1542013383796|\"Mozilla/5.0 (Win...|    58|2018-11-12 09:03:03|\n",
      "|         Buju Banton|Logged In|     Emily|     F|            1|   Benson|232.48934| paid|Augusta-Richmond ...|   PUT|NextSong|1.540907087796E12|      377|         Cry No More|   200|1542013663796|\"Mozilla/5.0 (Win...|    58|2018-11-12 09:07:43|\n",
      "|               Feist|Logged In|    Evelin|     F|            0|    Ayala|184.94649| free|Milwaukee-Waukesh...|   PUT|NextSong|1.541007976796E12|      318|      My Moon My Man|   200|1542017923796|Mozilla/5.0 (Maci...|    34|2018-11-12 10:18:43|\n",
      "|       Kings Of Leon|Logged In|     Chloe|     F|            1|   Cuevas|201.79546| free|San Francisco-Oak...|   PUT|NextSong|1.540940782796E12|      490|             Revelry|   200|1542018073796|Mozilla/5.0 (Wind...|    49|2018-11-12 10:21:13|\n",
      "+--------------------+---------+----------+------+-------------+---------+---------+-----+--------------------+------+--------+-----------------+---------+--------------------+------+-------------+--------------------+------+-------------------+\n",
      "only showing top 20 rows"
     ]
    }
   ],
   "source": [
    "# create timestamp column from original timestamp column\n",
    "get_timestamp = udf(lambda x:  datetime.fromtimestamp(x/1000).strftime('%Y-%m-%d %H:%M:%S'))\n",
    "df = df.withColumn(\"timestamp\", get_timestamp(df.ts))\n",
    "\n",
    "df.printSchema()\n",
    "df.show(20)"
   ]
  },
  {
   "cell_type": "code",
   "execution_count": 10,
   "id": "122ede20-95aa-477c-ac78-b0f4af95b842",
   "metadata": {
    "execution": {
     "iopub.execute_input": "2022-10-02T01:02:50.683426Z",
     "iopub.status.busy": "2022-10-02T01:02:50.683091Z",
     "iopub.status.idle": "2022-10-02T01:02:53.449561Z",
     "shell.execute_reply": "2022-10-02T01:02:53.448469Z",
     "shell.execute_reply.started": "2022-10-02T01:02:50.683396Z"
    },
    "tags": []
   },
   "outputs": [
    {
     "data": {
      "application/vnd.jupyter.widget-view+json": {
       "model_id": "14e4a8a19c79479ea56752016d6d7da5",
       "version_major": 2,
       "version_minor": 0
      },
      "text/plain": [
       "VBox()"
      ]
     },
     "metadata": {},
     "output_type": "display_data"
    },
    {
     "data": {
      "application/vnd.jupyter.widget-view+json": {
       "model_id": "",
       "version_major": 2,
       "version_minor": 0
      },
      "text/plain": [
       "FloatProgress(value=0.0, bar_style='info', description='Progress:', layout=Layout(height='25px', width='50%'),…"
      ]
     },
     "metadata": {},
     "output_type": "display_data"
    },
    {
     "name": "stdout",
     "output_type": "stream",
     "text": [
      "root\n",
      " |-- artist: string (nullable = true)\n",
      " |-- auth: string (nullable = true)\n",
      " |-- firstName: string (nullable = true)\n",
      " |-- gender: string (nullable = true)\n",
      " |-- itemInSession: long (nullable = true)\n",
      " |-- lastName: string (nullable = true)\n",
      " |-- length: double (nullable = true)\n",
      " |-- level: string (nullable = true)\n",
      " |-- location: string (nullable = true)\n",
      " |-- method: string (nullable = true)\n",
      " |-- page: string (nullable = true)\n",
      " |-- registration: double (nullable = true)\n",
      " |-- sessionId: long (nullable = true)\n",
      " |-- song: string (nullable = true)\n",
      " |-- status: long (nullable = true)\n",
      " |-- ts: long (nullable = true)\n",
      " |-- userAgent: string (nullable = true)\n",
      " |-- userId: string (nullable = true)\n",
      " |-- timestamp: string (nullable = true)\n",
      " |-- datetime: string (nullable = true)\n",
      "\n",
      "+--------------------+---------+----------+------+-------------+---------+---------+-----+--------------------+------+--------+-----------------+---------+--------------------+------+-------------+--------------------+------+-------------------+----------+\n",
      "|              artist|     auth| firstName|gender|itemInSession| lastName|   length|level|            location|method|    page|     registration|sessionId|                song|status|           ts|           userAgent|userId|          timestamp|  datetime|\n",
      "+--------------------+---------+----------+------+-------------+---------+---------+-----+--------------------+------+--------+-----------------+---------+--------------------+------+-------------+--------------------+------+-------------------+----------+\n",
      "|            Pavement|Logged In|    Sylvie|     F|            0|     Cruz| 99.16036| free|Washington-Arling...|   PUT|NextSong|1.540266185796E12|      345|Mercy:The Laundromat|   200|1541990258796|\"Mozilla/5.0 (Mac...|    10|2018-11-12 02:37:38|2018-11-12|\n",
      "|Barry Tuckwell/Ac...|Logged In|   Celeste|     F|            1| Williams|277.15873| free|   Klamath Falls, OR|   PUT|NextSong|1.541077528796E12|      438|Horn Concerto No....|   200|1541990264796|\"Mozilla/5.0 (Win...|    53|2018-11-12 02:37:44|2018-11-12|\n",
      "|          Gary Allan|Logged In|   Celeste|     F|            2| Williams|211.22567| free|   Klamath Falls, OR|   PUT|NextSong|1.541077528796E12|      438|Nothing On But Th...|   200|1541990541796|\"Mozilla/5.0 (Win...|    53|2018-11-12 02:42:21|2018-11-12|\n",
      "|  Charttraxx Karaoke|Logged In|   Celeste|     F|            3| Williams|225.17506| free|   Klamath Falls, OR|   PUT|NextSong|1.541077528796E12|      438|           Fireflies|   200|1541990752796|\"Mozilla/5.0 (Win...|    53|2018-11-12 02:45:52|2018-11-12|\n",
      "|      The Libertines|Logged In|Jacqueline|     F|            1|    Lynch|179.53914| paid|Atlanta-Sandy Spr...|   PUT|NextSong|1.540223723796E12|      389|   The Good Old Days|   200|1541990842796|\"Mozilla/5.0 (Mac...|    29|2018-11-12 02:47:22|2018-11-12|\n",
      "|Huey Lewis And Th...|Logged In|Jacqueline|     F|            2|    Lynch|245.52444| paid|Atlanta-Sandy Spr...|   PUT|NextSong|1.540223723796E12|      389|    Hip To Be Square|   200|1541991021796|\"Mozilla/5.0 (Mac...|    29|2018-11-12 02:50:21|2018-11-12|\n",
      "|JOSEF LOCKE & ORC...|Logged In|Jacqueline|     F|            3|    Lynch|166.26893| paid|Atlanta-Sandy Spr...|   PUT|NextSong|1.540223723796E12|      389|How Can You Buy K...|   200|1541991266796|\"Mozilla/5.0 (Mac...|    29|2018-11-12 02:54:26|2018-11-12|\n",
      "|               Train|Logged In|Jacqueline|     F|            4|    Lynch|216.76363| paid|Atlanta-Sandy Spr...|   PUT|NextSong|1.540223723796E12|      389|    Hey_ Soul Sister|   200|1541991432796|\"Mozilla/5.0 (Mac...|    29|2018-11-12 02:57:12|2018-11-12|\n",
      "|         Blind Pilot|Logged In|Jacqueline|     F|            5|    Lynch|156.94322| paid|Atlanta-Sandy Spr...|   PUT|NextSong|1.540223723796E12|      389|     I Buried a Bone|   200|1541991648796|\"Mozilla/5.0 (Mac...|    29|2018-11-12 03:00:48|2018-11-12|\n",
      "|             Anjulie|Logged In|Jacqueline|     F|            6|    Lynch|194.63791| paid|Atlanta-Sandy Spr...|   PUT|NextSong|1.540223723796E12|      389|                Boom|   200|1541991804796|\"Mozilla/5.0 (Mac...|    29|2018-11-12 03:03:24|2018-11-12|\n",
      "|   59 Times the Pain|Logged In|    Jordan|     F|            0|Rodriguez|144.95302| free|Los Angeles-Long ...|   PUT|NextSong|1.540992715796E12|      136|          Found Home|   200|1541993788796|Mozilla/5.0 (Wind...|    68|2018-11-12 03:36:28|2018-11-12|\n",
      "|          Pork Dukes|Logged In|      Noah|     M|            0|   Chavez|133.04118| free|Ogden-Clearfield, UT|   PUT|NextSong|1.540970748796E12|      262|        Bend & Flush|   200|1542003207796|Mozilla/5.0 (Wind...|    94|2018-11-12 06:13:27|2018-11-12|\n",
      "|              Plan B|Logged In|     Adler|     M|            1|  Barrera|254.95465| free|New York-Newark-J...|   PUT|NextSong|1.540835983796E12|      428|Traded In My Ciga...|   200|1542012644796|\"Mozilla/5.0 (Mac...|   100|2018-11-12 08:50:44|2018-11-12|\n",
      "|Rell featuring De...|Logged In|     Adler|     M|            2|  Barrera|223.97342| free|New York-Newark-J...|   PUT|NextSong|1.540835983796E12|      428|     Talk Is Drastik|   200|1542012898796|\"Mozilla/5.0 (Mac...|   100|2018-11-12 08:54:58|2018-11-12|\n",
      "|                K-OS|Logged In|     Adler|     M|            3|  Barrera|211.33016| free|New York-Newark-J...|   PUT|NextSong|1.540835983796E12|      428|        EMCEE Murdah|   200|1542013121796|\"Mozilla/5.0 (Mac...|   100|2018-11-12 08:58:41|2018-11-12|\n",
      "|     Vanessa Carlton|Logged In|     Adler|     M|            4|  Barrera|272.40444| free|New York-Newark-J...|   PUT|NextSong|1.540835983796E12|      428|         Come Undone|   200|1542013332796|\"Mozilla/5.0 (Mac...|   100|2018-11-12 09:02:12|2018-11-12|\n",
      "|              Camila|Logged In|     Emily|     F|            0|   Benson|280.34567| paid|Augusta-Richmond ...|   PUT|NextSong|1.540907087796E12|      377|               De Mi|   200|1542013383796|\"Mozilla/5.0 (Win...|    58|2018-11-12 09:03:03|2018-11-12|\n",
      "|         Buju Banton|Logged In|     Emily|     F|            1|   Benson|232.48934| paid|Augusta-Richmond ...|   PUT|NextSong|1.540907087796E12|      377|         Cry No More|   200|1542013663796|\"Mozilla/5.0 (Win...|    58|2018-11-12 09:07:43|2018-11-12|\n",
      "|               Feist|Logged In|    Evelin|     F|            0|    Ayala|184.94649| free|Milwaukee-Waukesh...|   PUT|NextSong|1.541007976796E12|      318|      My Moon My Man|   200|1542017923796|Mozilla/5.0 (Maci...|    34|2018-11-12 10:18:43|2018-11-12|\n",
      "|       Kings Of Leon|Logged In|     Chloe|     F|            1|   Cuevas|201.79546| free|San Francisco-Oak...|   PUT|NextSong|1.540940782796E12|      490|             Revelry|   200|1542018073796|Mozilla/5.0 (Wind...|    49|2018-11-12 10:21:13|2018-11-12|\n",
      "+--------------------+---------+----------+------+-------------+---------+---------+-----+--------------------+------+--------+-----------------+---------+--------------------+------+-------------+--------------------+------+-------------------+----------+\n",
      "only showing top 20 rows\n",
      "\n",
      "----------------------------------------\n",
      "Exception happened during processing of request from ('127.0.0.1', 59750)\n",
      "Traceback (most recent call last):\n",
      "  File \"/usr/lib64/python3.6/socketserver.py\", line 320, in _handle_request_noblock\n",
      "    self.process_request(request, client_address)\n",
      "  File \"/usr/lib64/python3.6/socketserver.py\", line 351, in process_request\n",
      "    self.finish_request(request, client_address)\n",
      "  File \"/usr/lib64/python3.6/socketserver.py\", line 364, in finish_request\n",
      "    self.RequestHandlerClass(request, client_address, self)\n",
      "  File \"/usr/lib64/python3.6/socketserver.py\", line 724, in __init__\n",
      "    self.handle()\n",
      "  File \"/usr/lib/spark/python/lib/pyspark.zip/pyspark/accumulators.py\", line 266, in handle\n",
      "    poll(authenticate_and_accum_updates)\n",
      "  File \"/usr/lib/spark/python/lib/pyspark.zip/pyspark/accumulators.py\", line 241, in poll\n",
      "    if func():\n",
      "  File \"/usr/lib/spark/python/lib/pyspark.zip/pyspark/accumulators.py\", line 254, in authenticate_and_accum_updates\n",
      "    received_token = self.rfile.read(len(auth_token))\n",
      "TypeError: object of type 'NoneType' has no len()\n",
      "----------------------------------------"
     ]
    }
   ],
   "source": [
    "# create datetime column from original timestamp column\n",
    "get_datetime = udf(lambda x: datetime.fromtimestamp(x/1000).strftime('%Y-%m-%d'))\n",
    "df = df.withColumn(\"datetime\", get_datetime(df.ts))\n",
    "\n",
    "df.printSchema()\n",
    "df.show(20)"
   ]
  },
  {
   "cell_type": "code",
   "execution_count": 11,
   "id": "adb8b36c-46b1-4f92-b886-fc82292eb312",
   "metadata": {
    "execution": {
     "iopub.execute_input": "2022-10-02T01:03:00.966788Z",
     "iopub.status.busy": "2022-10-02T01:03:00.966342Z",
     "iopub.status.idle": "2022-10-02T01:03:02.578965Z",
     "shell.execute_reply": "2022-10-02T01:03:02.577631Z",
     "shell.execute_reply.started": "2022-10-02T01:03:00.966752Z"
    },
    "tags": []
   },
   "outputs": [
    {
     "data": {
      "application/vnd.jupyter.widget-view+json": {
       "model_id": "edbc37e8c4fb4e09bcc91f7aeab4466f",
       "version_major": 2,
       "version_minor": 0
      },
      "text/plain": [
       "VBox()"
      ]
     },
     "metadata": {},
     "output_type": "display_data"
    },
    {
     "data": {
      "application/vnd.jupyter.widget-view+json": {
       "model_id": "",
       "version_major": 2,
       "version_minor": 0
      },
      "text/plain": [
       "FloatProgress(value=0.0, bar_style='info', description='Progress:', layout=Layout(height='25px', width='50%'),…"
      ]
     },
     "metadata": {},
     "output_type": "display_data"
    },
    {
     "name": "stdout",
     "output_type": "stream",
     "text": [
      "root\n",
      " |-- start_time: string (nullable = true)\n",
      " |-- hour: integer (nullable = true)\n",
      " |-- day: integer (nullable = true)\n",
      " |-- week: integer (nullable = true)\n",
      " |-- month: integer (nullable = true)\n",
      " |-- year: integer (nullable = true)\n",
      " |-- weekday: string (nullable = true)\n",
      "\n",
      "+-------------------+----+---+----+-----+----+-------+\n",
      "|         start_time|hour|day|week|month|year|weekday|\n",
      "+-------------------+----+---+----+-----+----+-------+\n",
      "|2018-11-12 02:37:38|   2| 12|  46|   11|2018|    Mon|\n",
      "|2018-11-12 02:37:44|   2| 12|  46|   11|2018|    Mon|\n",
      "|2018-11-12 02:42:21|   2| 12|  46|   11|2018|    Mon|\n",
      "|2018-11-12 02:45:52|   2| 12|  46|   11|2018|    Mon|\n",
      "|2018-11-12 02:47:22|   2| 12|  46|   11|2018|    Mon|\n",
      "|2018-11-12 02:50:21|   2| 12|  46|   11|2018|    Mon|\n",
      "|2018-11-12 02:54:26|   2| 12|  46|   11|2018|    Mon|\n",
      "|2018-11-12 02:57:12|   2| 12|  46|   11|2018|    Mon|\n",
      "|2018-11-12 03:00:48|   3| 12|  46|   11|2018|    Mon|\n",
      "|2018-11-12 03:03:24|   3| 12|  46|   11|2018|    Mon|\n",
      "|2018-11-12 03:36:28|   3| 12|  46|   11|2018|    Mon|\n",
      "|2018-11-12 06:13:27|   6| 12|  46|   11|2018|    Mon|\n",
      "|2018-11-12 08:50:44|   8| 12|  46|   11|2018|    Mon|\n",
      "|2018-11-12 08:54:58|   8| 12|  46|   11|2018|    Mon|\n",
      "|2018-11-12 08:58:41|   8| 12|  46|   11|2018|    Mon|\n",
      "+-------------------+----+---+----+-----+----+-------+\n",
      "only showing top 15 rows"
     ]
    }
   ],
   "source": [
    "# extract columns to create time table\n",
    "time_table = df.select(col('timestamp').alias('start_time'),\n",
    "                       hour('timestamp').alias('hour'),\n",
    "                       dayofmonth('timestamp').alias('day'),\n",
    "                       weekofyear('timestamp').alias('week'),\n",
    "                       month('timestamp').alias('month'),\n",
    "                       year('timestamp').alias('year'),\n",
    "                       date_format('timestamp','E').alias('weekday')\n",
    ")\n",
    "\n",
    "time_table.printSchema()\n",
    "time_table.sort(\"start_time\").show(15)\n",
    "# time_table.sort(\"start_time\").show(truncate=False)"
   ]
  },
  {
   "cell_type": "code",
   "execution_count": 12,
   "id": "7bd6e923",
   "metadata": {
    "execution": {
     "iopub.execute_input": "2022-10-02T01:03:12.261110Z",
     "iopub.status.busy": "2022-10-02T01:03:12.260365Z",
     "iopub.status.idle": "2022-10-02T01:03:18.048880Z",
     "shell.execute_reply": "2022-10-02T01:03:18.046737Z",
     "shell.execute_reply.started": "2022-10-02T01:03:12.261073Z"
    },
    "tags": []
   },
   "outputs": [
    {
     "data": {
      "application/vnd.jupyter.widget-view+json": {
       "model_id": "dc3da1a17ec146deb69a7c5a7e7ccd35",
       "version_major": 2,
       "version_minor": 0
      },
      "text/plain": [
       "VBox()"
      ]
     },
     "metadata": {},
     "output_type": "display_data"
    },
    {
     "data": {
      "application/vnd.jupyter.widget-view+json": {
       "model_id": "",
       "version_major": 2,
       "version_minor": 0
      },
      "text/plain": [
       "FloatProgress(value=0.0, bar_style='info', description='Progress:', layout=Layout(height='25px', width='50%'),…"
      ]
     },
     "metadata": {},
     "output_type": "display_data"
    }
   ],
   "source": [
    "# write time table to parquet files partitioned by year and month\n",
    "time_table.write.partitionBy(\"year\", \"month\").parquet(os.path.join(output_data, \"time/time.parquet\"), \"overwrite\")"
   ]
  },
  {
   "cell_type": "code",
   "execution_count": 13,
   "id": "c12c06eb-f7d5-422a-9258-b50f76f8fdf4",
   "metadata": {
    "execution": {
     "iopub.execute_input": "2022-10-02T01:03:23.354304Z",
     "iopub.status.busy": "2022-10-02T01:03:23.353934Z",
     "iopub.status.idle": "2022-10-02T01:03:29.349243Z",
     "shell.execute_reply": "2022-10-02T01:03:29.345969Z",
     "shell.execute_reply.started": "2022-10-02T01:03:23.354273Z"
    },
    "tags": []
   },
   "outputs": [
    {
     "data": {
      "application/vnd.jupyter.widget-view+json": {
       "model_id": "d369956c022042b1b995d0e4b583a4f4",
       "version_major": 2,
       "version_minor": 0
      },
      "text/plain": [
       "VBox()"
      ]
     },
     "metadata": {},
     "output_type": "display_data"
    },
    {
     "data": {
      "application/vnd.jupyter.widget-view+json": {
       "model_id": "",
       "version_major": 2,
       "version_minor": 0
      },
      "text/plain": [
       "FloatProgress(value=0.0, bar_style='info', description='Progress:', layout=Layout(height='25px', width='50%'),…"
      ]
     },
     "metadata": {},
     "output_type": "display_data"
    },
    {
     "name": "stdout",
     "output_type": "stream",
     "text": [
      "root\n",
      " |-- start_time: string (nullable = true)\n",
      " |-- hour: integer (nullable = true)\n",
      " |-- day: integer (nullable = true)\n",
      " |-- week: integer (nullable = true)\n",
      " |-- weekday: string (nullable = true)\n",
      " |-- month: integer (nullable = true)\n",
      "\n",
      "+-------------------+----+---+----+-------+-----+\n",
      "|start_time         |hour|day|week|weekday|month|\n",
      "+-------------------+----+---+----+-------+-----+\n",
      "|2018-11-12 02:37:38|2   |12 |46  |Mon    |11   |\n",
      "|2018-11-12 02:37:44|2   |12 |46  |Mon    |11   |\n",
      "|2018-11-12 02:42:21|2   |12 |46  |Mon    |11   |\n",
      "|2018-11-12 02:45:52|2   |12 |46  |Mon    |11   |\n",
      "|2018-11-12 02:47:22|2   |12 |46  |Mon    |11   |\n",
      "|2018-11-12 02:50:21|2   |12 |46  |Mon    |11   |\n",
      "|2018-11-12 02:54:26|2   |12 |46  |Mon    |11   |\n",
      "|2018-11-12 02:57:12|2   |12 |46  |Mon    |11   |\n",
      "|2018-11-12 03:00:48|3   |12 |46  |Mon    |11   |\n",
      "|2018-11-12 03:03:24|3   |12 |46  |Mon    |11   |\n",
      "|2018-11-12 03:36:28|3   |12 |46  |Mon    |11   |\n",
      "|2018-11-12 06:13:27|6   |12 |46  |Mon    |11   |\n",
      "|2018-11-12 08:50:44|8   |12 |46  |Mon    |11   |\n",
      "|2018-11-12 08:54:58|8   |12 |46  |Mon    |11   |\n",
      "|2018-11-12 08:58:41|8   |12 |46  |Mon    |11   |\n",
      "|2018-11-12 09:02:12|9   |12 |46  |Mon    |11   |\n",
      "|2018-11-12 09:03:03|9   |12 |46  |Mon    |11   |\n",
      "|2018-11-12 09:07:43|9   |12 |46  |Mon    |11   |\n",
      "|2018-11-12 10:18:43|10  |12 |46  |Mon    |11   |\n",
      "|2018-11-12 10:21:13|10  |12 |46  |Mon    |11   |\n",
      "+-------------------+----+---+----+-------+-----+\n",
      "only showing top 20 rows"
     ]
    }
   ],
   "source": [
    "# Verify time_table parquet file\n",
    "time_table = spark.read.parquet(\"s3://thanhdv-spark-datalake-emr-project4-03/emr-lab-data/time/time.parquet/*\")\n",
    "\n",
    "time_table.printSchema()\n",
    "time_table.sort(\"start_time\").show(truncate=False)"
   ]
  },
  {
   "cell_type": "code",
   "execution_count": 14,
   "id": "f33263b4-e133-43a7-adb5-857ef6816eaa",
   "metadata": {
    "execution": {
     "iopub.execute_input": "2022-10-02T01:03:33.899529Z",
     "iopub.status.busy": "2022-10-02T01:03:33.899052Z",
     "iopub.status.idle": "2022-10-02T01:03:37.962489Z",
     "shell.execute_reply": "2022-10-02T01:03:37.961535Z",
     "shell.execute_reply.started": "2022-10-02T01:03:33.899493Z"
    },
    "tags": []
   },
   "outputs": [
    {
     "data": {
      "application/vnd.jupyter.widget-view+json": {
       "model_id": "0b2277326b884d989dccadf0221bb691",
       "version_major": 2,
       "version_minor": 0
      },
      "text/plain": [
       "VBox()"
      ]
     },
     "metadata": {},
     "output_type": "display_data"
    },
    {
     "data": {
      "application/vnd.jupyter.widget-view+json": {
       "model_id": "",
       "version_major": 2,
       "version_minor": 0
      },
      "text/plain": [
       "FloatProgress(value=0.0, bar_style='info', description='Progress:', layout=Layout(height='25px', width='50%'),…"
      ]
     },
     "metadata": {},
     "output_type": "display_data"
    },
    {
     "name": "stdout",
     "output_type": "stream",
     "text": [
      "+--------------------+---------+----------+------+-------------+---------+---------+-----+--------------------+------+--------+-----------------+---------+--------------------+------+-------------+--------------------+------+-------------------+----------+\n",
      "|              artist|     auth| firstName|gender|itemInSession| lastName|   length|level|            location|method|    page|     registration|sessionId|                song|status|           ts|           userAgent|userId|          timestamp|  datetime|\n",
      "+--------------------+---------+----------+------+-------------+---------+---------+-----+--------------------+------+--------+-----------------+---------+--------------------+------+-------------+--------------------+------+-------------------+----------+\n",
      "|            Pavement|Logged In|    Sylvie|     F|            0|     Cruz| 99.16036| free|Washington-Arling...|   PUT|NextSong|1.540266185796E12|      345|Mercy:The Laundromat|   200|1541990258796|\"Mozilla/5.0 (Mac...|    10|2018-11-12 02:37:38|2018-11-12|\n",
      "|Barry Tuckwell/Ac...|Logged In|   Celeste|     F|            1| Williams|277.15873| free|   Klamath Falls, OR|   PUT|NextSong|1.541077528796E12|      438|Horn Concerto No....|   200|1541990264796|\"Mozilla/5.0 (Win...|    53|2018-11-12 02:37:44|2018-11-12|\n",
      "|          Gary Allan|Logged In|   Celeste|     F|            2| Williams|211.22567| free|   Klamath Falls, OR|   PUT|NextSong|1.541077528796E12|      438|Nothing On But Th...|   200|1541990541796|\"Mozilla/5.0 (Win...|    53|2018-11-12 02:42:21|2018-11-12|\n",
      "|  Charttraxx Karaoke|Logged In|   Celeste|     F|            3| Williams|225.17506| free|   Klamath Falls, OR|   PUT|NextSong|1.541077528796E12|      438|           Fireflies|   200|1541990752796|\"Mozilla/5.0 (Win...|    53|2018-11-12 02:45:52|2018-11-12|\n",
      "|      The Libertines|Logged In|Jacqueline|     F|            1|    Lynch|179.53914| paid|Atlanta-Sandy Spr...|   PUT|NextSong|1.540223723796E12|      389|   The Good Old Days|   200|1541990842796|\"Mozilla/5.0 (Mac...|    29|2018-11-12 02:47:22|2018-11-12|\n",
      "|Huey Lewis And Th...|Logged In|Jacqueline|     F|            2|    Lynch|245.52444| paid|Atlanta-Sandy Spr...|   PUT|NextSong|1.540223723796E12|      389|    Hip To Be Square|   200|1541991021796|\"Mozilla/5.0 (Mac...|    29|2018-11-12 02:50:21|2018-11-12|\n",
      "|JOSEF LOCKE & ORC...|Logged In|Jacqueline|     F|            3|    Lynch|166.26893| paid|Atlanta-Sandy Spr...|   PUT|NextSong|1.540223723796E12|      389|How Can You Buy K...|   200|1541991266796|\"Mozilla/5.0 (Mac...|    29|2018-11-12 02:54:26|2018-11-12|\n",
      "|               Train|Logged In|Jacqueline|     F|            4|    Lynch|216.76363| paid|Atlanta-Sandy Spr...|   PUT|NextSong|1.540223723796E12|      389|    Hey_ Soul Sister|   200|1541991432796|\"Mozilla/5.0 (Mac...|    29|2018-11-12 02:57:12|2018-11-12|\n",
      "|         Blind Pilot|Logged In|Jacqueline|     F|            5|    Lynch|156.94322| paid|Atlanta-Sandy Spr...|   PUT|NextSong|1.540223723796E12|      389|     I Buried a Bone|   200|1541991648796|\"Mozilla/5.0 (Mac...|    29|2018-11-12 03:00:48|2018-11-12|\n",
      "|             Anjulie|Logged In|Jacqueline|     F|            6|    Lynch|194.63791| paid|Atlanta-Sandy Spr...|   PUT|NextSong|1.540223723796E12|      389|                Boom|   200|1541991804796|\"Mozilla/5.0 (Mac...|    29|2018-11-12 03:03:24|2018-11-12|\n",
      "|   59 Times the Pain|Logged In|    Jordan|     F|            0|Rodriguez|144.95302| free|Los Angeles-Long ...|   PUT|NextSong|1.540992715796E12|      136|          Found Home|   200|1541993788796|Mozilla/5.0 (Wind...|    68|2018-11-12 03:36:28|2018-11-12|\n",
      "|          Pork Dukes|Logged In|      Noah|     M|            0|   Chavez|133.04118| free|Ogden-Clearfield, UT|   PUT|NextSong|1.540970748796E12|      262|        Bend & Flush|   200|1542003207796|Mozilla/5.0 (Wind...|    94|2018-11-12 06:13:27|2018-11-12|\n",
      "|              Plan B|Logged In|     Adler|     M|            1|  Barrera|254.95465| free|New York-Newark-J...|   PUT|NextSong|1.540835983796E12|      428|Traded In My Ciga...|   200|1542012644796|\"Mozilla/5.0 (Mac...|   100|2018-11-12 08:50:44|2018-11-12|\n",
      "|Rell featuring De...|Logged In|     Adler|     M|            2|  Barrera|223.97342| free|New York-Newark-J...|   PUT|NextSong|1.540835983796E12|      428|     Talk Is Drastik|   200|1542012898796|\"Mozilla/5.0 (Mac...|   100|2018-11-12 08:54:58|2018-11-12|\n",
      "|                K-OS|Logged In|     Adler|     M|            3|  Barrera|211.33016| free|New York-Newark-J...|   PUT|NextSong|1.540835983796E12|      428|        EMCEE Murdah|   200|1542013121796|\"Mozilla/5.0 (Mac...|   100|2018-11-12 08:58:41|2018-11-12|\n",
      "|     Vanessa Carlton|Logged In|     Adler|     M|            4|  Barrera|272.40444| free|New York-Newark-J...|   PUT|NextSong|1.540835983796E12|      428|         Come Undone|   200|1542013332796|\"Mozilla/5.0 (Mac...|   100|2018-11-12 09:02:12|2018-11-12|\n",
      "|              Camila|Logged In|     Emily|     F|            0|   Benson|280.34567| paid|Augusta-Richmond ...|   PUT|NextSong|1.540907087796E12|      377|               De Mi|   200|1542013383796|\"Mozilla/5.0 (Win...|    58|2018-11-12 09:03:03|2018-11-12|\n",
      "|         Buju Banton|Logged In|     Emily|     F|            1|   Benson|232.48934| paid|Augusta-Richmond ...|   PUT|NextSong|1.540907087796E12|      377|         Cry No More|   200|1542013663796|\"Mozilla/5.0 (Win...|    58|2018-11-12 09:07:43|2018-11-12|\n",
      "|               Feist|Logged In|    Evelin|     F|            0|    Ayala|184.94649| free|Milwaukee-Waukesh...|   PUT|NextSong|1.541007976796E12|      318|      My Moon My Man|   200|1542017923796|Mozilla/5.0 (Maci...|    34|2018-11-12 10:18:43|2018-11-12|\n",
      "|       Kings Of Leon|Logged In|     Chloe|     F|            1|   Cuevas|201.79546| free|San Francisco-Oak...|   PUT|NextSong|1.540940782796E12|      490|             Revelry|   200|1542018073796|Mozilla/5.0 (Wind...|    49|2018-11-12 10:21:13|2018-11-12|\n",
      "+--------------------+---------+----------+------+-------------+---------+---------+-----+--------------------+------+--------+-----------------+---------+--------------------+------+-------------+--------------------+------+-------------------+----------+\n",
      "only showing top 20 rows\n",
      "\n",
      "+--------------------+---------+----------+------+-------------+---------+---------+-----+--------------------+------+--------+-----------------+---------+--------------------+------+-------------+--------------------+------+\n",
      "|              artist|     auth| firstName|gender|itemInSession| lastName|   length|level|            location|method|    page|     registration|sessionId|                song|status|           ts|           userAgent|userId|\n",
      "+--------------------+---------+----------+------+-------------+---------+---------+-----+--------------------+------+--------+-----------------+---------+--------------------+------+-------------+--------------------+------+\n",
      "|                null|Logged In|   Celeste|     F|            0| Williams|     null| free|   Klamath Falls, OR|   GET|    Home|1.541077528796E12|      438|                null|   200|1541990217796|\"Mozilla/5.0 (Win...|    53|\n",
      "|            Pavement|Logged In|    Sylvie|     F|            0|     Cruz| 99.16036| free|Washington-Arling...|   PUT|NextSong|1.540266185796E12|      345|Mercy:The Laundromat|   200|1541990258796|\"Mozilla/5.0 (Mac...|    10|\n",
      "|Barry Tuckwell/Ac...|Logged In|   Celeste|     F|            1| Williams|277.15873| free|   Klamath Falls, OR|   PUT|NextSong|1.541077528796E12|      438|Horn Concerto No....|   200|1541990264796|\"Mozilla/5.0 (Win...|    53|\n",
      "|          Gary Allan|Logged In|   Celeste|     F|            2| Williams|211.22567| free|   Klamath Falls, OR|   PUT|NextSong|1.541077528796E12|      438|Nothing On But Th...|   200|1541990541796|\"Mozilla/5.0 (Win...|    53|\n",
      "|                null|Logged In|Jacqueline|     F|            0|    Lynch|     null| paid|Atlanta-Sandy Spr...|   GET|    Home|1.540223723796E12|      389|                null|   200|1541990714796|\"Mozilla/5.0 (Mac...|    29|\n",
      "|  Charttraxx Karaoke|Logged In|   Celeste|     F|            3| Williams|225.17506| free|   Klamath Falls, OR|   PUT|NextSong|1.541077528796E12|      438|           Fireflies|   200|1541990752796|\"Mozilla/5.0 (Win...|    53|\n",
      "|      The Libertines|Logged In|Jacqueline|     F|            1|    Lynch|179.53914| paid|Atlanta-Sandy Spr...|   PUT|NextSong|1.540223723796E12|      389|   The Good Old Days|   200|1541990842796|\"Mozilla/5.0 (Mac...|    29|\n",
      "|Huey Lewis And Th...|Logged In|Jacqueline|     F|            2|    Lynch|245.52444| paid|Atlanta-Sandy Spr...|   PUT|NextSong|1.540223723796E12|      389|    Hip To Be Square|   200|1541991021796|\"Mozilla/5.0 (Mac...|    29|\n",
      "|JOSEF LOCKE & ORC...|Logged In|Jacqueline|     F|            3|    Lynch|166.26893| paid|Atlanta-Sandy Spr...|   PUT|NextSong|1.540223723796E12|      389|How Can You Buy K...|   200|1541991266796|\"Mozilla/5.0 (Mac...|    29|\n",
      "|               Train|Logged In|Jacqueline|     F|            4|    Lynch|216.76363| paid|Atlanta-Sandy Spr...|   PUT|NextSong|1.540223723796E12|      389|    Hey_ Soul Sister|   200|1541991432796|\"Mozilla/5.0 (Mac...|    29|\n",
      "|         Blind Pilot|Logged In|Jacqueline|     F|            5|    Lynch|156.94322| paid|Atlanta-Sandy Spr...|   PUT|NextSong|1.540223723796E12|      389|     I Buried a Bone|   200|1541991648796|\"Mozilla/5.0 (Mac...|    29|\n",
      "|             Anjulie|Logged In|Jacqueline|     F|            6|    Lynch|194.63791| paid|Atlanta-Sandy Spr...|   PUT|NextSong|1.540223723796E12|      389|                Boom|   200|1541991804796|\"Mozilla/5.0 (Mac...|    29|\n",
      "|   59 Times the Pain|Logged In|    Jordan|     F|            0|Rodriguez|144.95302| free|Los Angeles-Long ...|   PUT|NextSong|1.540992715796E12|      136|          Found Home|   200|1541993788796|Mozilla/5.0 (Wind...|    68|\n",
      "|                null|Logged In|    Kimber|     F|            0|   Norris|     null| free|New York-Newark-J...|   GET|    Home|1.540975589796E12|      412|                null|   200|1542000167796|\"Mozilla/5.0 (Mac...|    47|\n",
      "|                null|Logged In|      Lily|     F|            0|    Burns|     null| free|New York-Newark-J...|   GET|   About|1.540621059796E12|      466|                null|   200|1542001320796|\"Mozilla/5.0 (Win...|    32|\n",
      "|                null|Logged In|      Lily|     F|            1|    Burns|     null| free|New York-Newark-J...|   GET|    Home|1.540621059796E12|      466|                null|   200|1542001337796|\"Mozilla/5.0 (Win...|    32|\n",
      "|                null|Logged In|     Chloe|     F|            0|   Cuevas|     null| free|San Francisco-Oak...|   GET|    Home|1.540940782796E12|      470|                null|   200|1542001991796|Mozilla/5.0 (Wind...|    49|\n",
      "|                null|Logged In|      Ryan|     M|            0|    Smith|     null| free|San Jose-Sunnyval...|   GET|    Home|1.541016707796E12|      483|                null|   200|1542002972796|\"Mozilla/5.0 (X11...|    26|\n",
      "|          Pork Dukes|Logged In|      Noah|     M|            0|   Chavez|133.04118| free|Ogden-Clearfield, UT|   PUT|NextSong|1.540970748796E12|      262|        Bend & Flush|   200|1542003207796|Mozilla/5.0 (Wind...|    94|\n",
      "|                null|Logged In|     Adler|     M|            0|  Barrera|     null| free|New York-Newark-J...|   GET|    Home|1.540835983796E12|      428|                null|   200|1542012631796|\"Mozilla/5.0 (Mac...|   100|\n",
      "+--------------------+---------+----------+------+-------------+---------+---------+-----+--------------------+------+--------+-----------------+---------+--------------------+------+-------------+--------------------+------+\n",
      "only showing top 20 rows"
     ]
    }
   ],
   "source": [
    "# extract columns from joined song and log datasets to create songplays table \n",
    "# defined log_data = input_data + \"song_data/A/A/A/*.json\"\n",
    "songplays_list = df.withColumn(\"timestamp\", get_timestamp(df.ts))\n",
    "songplays_list.createOrReplaceTempView(\"log_data_table\")\n",
    "#songplays_list.printSchema()\n",
    "songplays_list.sort(\"ts\").show(truncate=True)\n",
    "\n",
    "song_df = spark.read.json(log_data)\n",
    "song_df.createOrReplaceTempView(\"song_data_table\")\n",
    "#song_df.printSchema()\n",
    "song_df.sort(\"ts\").show(truncate=True)"
   ]
  },
  {
   "cell_type": "code",
   "execution_count": 16,
   "id": "505a0cff-cd3d-4bd8-87d9-bcaf05511c47",
   "metadata": {
    "execution": {
     "iopub.execute_input": "2022-10-02T01:04:14.338485Z",
     "iopub.status.busy": "2022-10-02T01:04:14.338124Z",
     "iopub.status.idle": "2022-10-02T01:04:14.837168Z",
     "shell.execute_reply": "2022-10-02T01:04:14.836055Z",
     "shell.execute_reply.started": "2022-10-02T01:04:14.338452Z"
    },
    "tags": []
   },
   "outputs": [
    {
     "data": {
      "application/vnd.jupyter.widget-view+json": {
       "model_id": "ff09978a12ce4a29ada116fa167e09e3",
       "version_major": 2,
       "version_minor": 0
      },
      "text/plain": [
       "VBox()"
      ]
     },
     "metadata": {},
     "output_type": "display_data"
    },
    {
     "data": {
      "application/vnd.jupyter.widget-view+json": {
       "model_id": "",
       "version_major": 2,
       "version_minor": 0
      },
      "text/plain": [
       "FloatProgress(value=0.0, bar_style='info', description='Progress:', layout=Layout(height='25px', width='50%'),…"
      ]
     },
     "metadata": {},
     "output_type": "display_data"
    },
    {
     "name": "stderr",
     "output_type": "stream",
     "text": [
      "\"cannot resolve '`sdt.song_id`' given input columns: [sdt.artist, sdt.auth, ldt.userId, sdt.sessionId, ldt.lastName, ldt.sessionId, ldt.status, sdt.level, ldt.auth, ldt.gender, sdt.method, ldt.length, sdt.status, sdt.length, ldt.registration, sdt.lastName, sdt.song, sdt.userId, sdt.location, ldt.itemInSession, ldt.ts, ldt.location, ldt.page, ldt.song, ldt.datetime, ldt.level, ldt.artist, sdt.page, sdt.itemInSession, sdt.gender, sdt.firstName, ldt.firstName, ldt.userAgent, sdt.ts, sdt.registration, ldt.method, sdt.userAgent, ldt.timestamp]; line 6 pos 8;\\n'Project [ts#21L AS start_time#763L, userId#23 AS user_id#764, level#13 AS level#765, 'sdt.song_id AS song_id#766, 'sdt.artist_id AS artist_id#767, sessionId#18L AS session_id#768L, location#14 AS location#769, userAgent#22 AS user_agent#770, year(cast(timestamp#535 as date)) AS year#771, month(cast(timestamp#535 as date)) AS month#772, row_number() AS songplay_id#773]\\n+- Join Inner, ((song#19 = song#656) && (artist#6 = artist#643))\\n   :- SubqueryAlias `ldt`\\n   :  +- SubqueryAlias `log_data_table`\\n   :     +- Project [artist#6, auth#7, firstName#8, gender#9, itemInSession#10L, lastName#11, length#12, level#13, location#14, method#15, page#16, registration#17, sessionId#18L, song#19, status#20L, ts#21L, userAgent#22, userId#23, <lambda>(ts#21L) AS timestamp#535, datetime#340]\\n   :        +- Project [artist#6, auth#7, firstName#8, gender#9, itemInSession#10L, lastName#11, length#12, level#13, location#14, method#15, page#16, registration#17, sessionId#18L, song#19, status#20L, ts#21L, userAgent#22, userId#23, timestamp#242, <lambda>(ts#21L) AS datetime#340]\\n   :           +- Project [artist#6, auth#7, firstName#8, gender#9, itemInSession#10L, lastName#11, length#12, level#13, location#14, method#15, page#16, registration#17, sessionId#18L, song#19, status#20L, ts#21L, userAgent#22, userId#23, <lambda>(ts#21L) AS timestamp#242]\\n   :              +- Filter (page#16 = NextSong)\\n   :                 +- Relation[artist#6,auth#7,firstName#8,gender#9,itemInSession#10L,lastName#11,length#12,level#13,location#14,method#15,page#16,registration#17,sessionId#18L,song#19,status#20L,ts#21L,userAgent#22,userId#23] json\\n   +- SubqueryAlias `sdt`\\n      +- SubqueryAlias `song_data_table`\\n         +- Relation[artist#643,auth#644,firstName#645,gender#646,itemInSession#647L,lastName#648,length#649,level#650,location#651,method#652,page#653,registration#654,sessionId#655L,song#656,status#657L,ts#658L,userAgent#659,userId#660] json\\n\"\n",
      "Traceback (most recent call last):\n",
      "  File \"/usr/lib/spark/python/lib/pyspark.zip/pyspark/sql/session.py\", line 767, in sql\n",
      "    return DataFrame(self._jsparkSession.sql(sqlQuery), self._wrapped)\n",
      "  File \"/usr/lib/spark/python/lib/py4j-0.10.7-src.zip/py4j/java_gateway.py\", line 1257, in __call__\n",
      "    answer, self.gateway_client, self.target_id, self.name)\n",
      "  File \"/usr/lib/spark/python/lib/pyspark.zip/pyspark/sql/utils.py\", line 69, in deco\n",
      "    raise AnalysisException(s.split(': ', 1)[1], stackTrace)\n",
      "pyspark.sql.utils.AnalysisException: \"cannot resolve '`sdt.song_id`' given input columns: [sdt.artist, sdt.auth, ldt.userId, sdt.sessionId, ldt.lastName, ldt.sessionId, ldt.status, sdt.level, ldt.auth, ldt.gender, sdt.method, ldt.length, sdt.status, sdt.length, ldt.registration, sdt.lastName, sdt.song, sdt.userId, sdt.location, ldt.itemInSession, ldt.ts, ldt.location, ldt.page, ldt.song, ldt.datetime, ldt.level, ldt.artist, sdt.page, sdt.itemInSession, sdt.gender, sdt.firstName, ldt.firstName, ldt.userAgent, sdt.ts, sdt.registration, ldt.method, sdt.userAgent, ldt.timestamp]; line 6 pos 8;\\n'Project [ts#21L AS start_time#763L, userId#23 AS user_id#764, level#13 AS level#765, 'sdt.song_id AS song_id#766, 'sdt.artist_id AS artist_id#767, sessionId#18L AS session_id#768L, location#14 AS location#769, userAgent#22 AS user_agent#770, year(cast(timestamp#535 as date)) AS year#771, month(cast(timestamp#535 as date)) AS month#772, row_number() AS songplay_id#773]\\n+- Join Inner, ((song#19 = song#656) && (artist#6 = artist#643))\\n   :- SubqueryAlias `ldt`\\n   :  +- SubqueryAlias `log_data_table`\\n   :     +- Project [artist#6, auth#7, firstName#8, gender#9, itemInSession#10L, lastName#11, length#12, level#13, location#14, method#15, page#16, registration#17, sessionId#18L, song#19, status#20L, ts#21L, userAgent#22, userId#23, <lambda>(ts#21L) AS timestamp#535, datetime#340]\\n   :        +- Project [artist#6, auth#7, firstName#8, gender#9, itemInSession#10L, lastName#11, length#12, level#13, location#14, method#15, page#16, registration#17, sessionId#18L, song#19, status#20L, ts#21L, userAgent#22, userId#23, timestamp#242, <lambda>(ts#21L) AS datetime#340]\\n   :           +- Project [artist#6, auth#7, firstName#8, gender#9, itemInSession#10L, lastName#11, length#12, level#13, location#14, method#15, page#16, registration#17, sessionId#18L, song#19, status#20L, ts#21L, userAgent#22, userId#23, <lambda>(ts#21L) AS timestamp#242]\\n   :              +- Filter (page#16 = NextSong)\\n   :                 +- Relation[artist#6,auth#7,firstName#8,gender#9,itemInSession#10L,lastName#11,length#12,level#13,location#14,method#15,page#16,registration#17,sessionId#18L,song#19,status#20L,ts#21L,userAgent#22,userId#23] json\\n   +- SubqueryAlias `sdt`\\n      +- SubqueryAlias `song_data_table`\\n         +- Relation[artist#643,auth#644,firstName#645,gender#646,itemInSession#647L,lastName#648,length#649,level#650,location#651,method#652,page#653,registration#654,sessionId#655L,song#656,status#657L,ts#658L,userAgent#659,userId#660] json\\n\"\n",
      "\n"
     ]
    }
   ],
   "source": [
    "songplays_table = spark.sql(\"\"\"\n",
    "    SELECT\n",
    "        ldt.ts as start_time,\n",
    "        ldt.userId AS user_id,\n",
    "        ldt.level as level,\n",
    "        sdt.song_id as song_id,\n",
    "        sdt.artist_id as artist_id,\n",
    "        ldt.sessionId as session_id,\n",
    "        ldt.location as location,\n",
    "        ldt.userAgent as user_agent,\n",
    "        year(ldt.timestamp) as year,\n",
    "        month(ldt.timestamp) as month,\n",
    "        row_number() as songplay_id\n",
    "    FROM log_data_table ldt\n",
    "    JOIN \n",
    "        song_data_table sdt ON ldt.song = sdt.song AND ldt.artist = sdt.artist\n",
    "    \"\"\")"
   ]
  },
  {
   "cell_type": "code",
   "execution_count": null,
   "id": "f01c48e2-774a-4d6d-ac3e-191663e854b7",
   "metadata": {},
   "outputs": [],
   "source": []
  },
  {
   "cell_type": "code",
   "execution_count": null,
   "id": "9a95a7b4-c670-4a76-93de-f6438789cf0c",
   "metadata": {},
   "outputs": [],
   "source": [
    "# write songplays table to parquet files partitioned by year and month\n",
    "songplays_table.write.partitionBy(\"year\", \"month\").parquet(os.path.join(output_data, \"songplays/songplays.parquet\"), \"overwrite\")"
   ]
  }
 ],
 "metadata": {
  "kernelspec": {
   "display_name": "PySpark",
   "language": "",
   "name": "pysparkkernel"
  },
  "language_info": {
   "codemirror_mode": {
    "name": "python",
    "version": 2
   },
   "mimetype": "text/x-python",
   "name": "pyspark",
   "pygments_lexer": "python2"
  }
 },
 "nbformat": 4,
 "nbformat_minor": 5
}
